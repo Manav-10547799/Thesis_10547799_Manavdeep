{
 "cells": [
  {
   "cell_type": "code",
   "execution_count": 1,
   "metadata": {},
   "outputs": [],
   "source": [
    "# Import necessary packages\n",
    "import pandas as pd\n",
    "import numpy as np\n",
    "\n",
    "# Machine Learning\n",
    "from sklearn.metrics import accuracy_score\n",
    "from sklearn.ensemble import GradientBoostingClassifier\n",
    "\n",
    "# Viz\n",
    "import matplotlib.pyplot\n",
    "from numpy.polynomial.polynomial import polyfit\n",
    "import matplotlib.pyplot as plt\n",
    "\n",
    "\n",
    "# evaluation metrics\n",
    "from scipy.stats import pearsonr\n",
    "from sklearn.metrics import classification_report\n",
    "from sklearn.metrics import mean_absolute_error\n",
    "from sklearn.metrics import r2_score\n",
    "from sklearn.metrics import confusion_matrix"
   ]
  },
  {
   "cell_type": "code",
   "execution_count": 2,
   "metadata": {},
   "outputs": [],
   "source": [
    "\n",
    "df = pd.read_csv(\"data_final_with_gng.csv\", encoding = \"ISO-8859-1\") "
   ]
  },
  {
   "cell_type": "markdown",
   "metadata": {},
   "source": [
    "#### Relativise Features"
   ]
  },
  {
   "cell_type": "code",
   "execution_count": 3,
   "metadata": {},
   "outputs": [
    {
     "data": {
      "text/plain": [
       "'df[\"Early_Recent\"] = df.groupby(\"Race_ID\").transform(lambda x: x-x.median())[\\'Early_Recent\\']\\ndf[\"Finish_Recent\"] = df.groupby(\"Race_ID\").transform(lambda x: x-x.median())[\\'Finish_Recent\\']\\ndf[\"Odds_Recent\"] = df.groupby(\"Race_ID\").transform(lambda x: x-x.median())[\\'Odds_Recent\\']\\ndf[\"Early_380\"] = df.groupby(\"Race_ID\").transform(lambda x: x-x.median())[\"Early_380\"]\\ndf[\"Finish_380\"] = df.groupby(\"Race_ID\").transform(lambda x: x-x.median())[\"Finish_380\"]\\ndf[\"Odds_380\"] = df.groupby(\"Race_ID\").transform(lambda x: x-x.median())[\"Odds_380\"]\\ndf[\"Stay_380\"] = df.groupby(\"Race_ID\").transform(lambda x: x-x.median())[\"Stay_380\"]\\ndf[\"Early_Time_380\"] = df.groupby(\"Race_ID\").transform(lambda x: x-x.median())[\"Early_Time_380\"]\\ndf[\"Time_380\"] = df.groupby(\"Race_ID\").transform(lambda x: x-x.median())[\"Time_380\"]'"
      ]
     },
     "execution_count": 3,
     "metadata": {},
     "output_type": "execute_result"
    }
   ],
   "source": [
    "\"\"\"df[\"Early_Recent\"] = df.groupby(\"Race_ID\").transform(lambda x: x-x.median())['Early_Recent']\n",
    "df[\"Finish_Recent\"] = df.groupby(\"Race_ID\").transform(lambda x: x-x.median())['Finish_Recent']\n",
    "df[\"Odds_Recent\"] = df.groupby(\"Race_ID\").transform(lambda x: x-x.median())['Odds_Recent']\n",
    "df[\"Early_380\"] = df.groupby(\"Race_ID\").transform(lambda x: x-x.median())[\"Early_380\"]\n",
    "df[\"Finish_380\"] = df.groupby(\"Race_ID\").transform(lambda x: x-x.median())[\"Finish_380\"]\n",
    "df[\"Odds_380\"] = df.groupby(\"Race_ID\").transform(lambda x: x-x.median())[\"Odds_380\"]\n",
    "df[\"Stay_380\"] = df.groupby(\"Race_ID\").transform(lambda x: x-x.median())[\"Stay_380\"]\n",
    "df[\"Early_Time_380\"] = df.groupby(\"Race_ID\").transform(lambda x: x-x.median())[\"Early_Time_380\"]\n",
    "df[\"Time_380\"] = df.groupby(\"Race_ID\").transform(lambda x: x-x.median())[\"Time_380\"]\"\"\""
   ]
  },
  {
   "cell_type": "code",
   "execution_count": 4,
   "metadata": {},
   "outputs": [],
   "source": [
    "# add Gng\n",
    "factors = ['Race_ID','Trap','Odds','BSP','Public_Estimate','Last_Run','Distance_All','Finish_All',\n",
    "'Distance_Places_All','Races_All','Distance_Recent','Finish_Recent','Odds_Recent','Early_Recent',\n",
    "'Races_380','Wins_380','Finish_380','Odds_380','Early_380','Grade_380','Time_380','Early_Time_380',\n",
    "'Stay_380','Favourite','Finished','Wide_380','Dist_By','Gng','Winner']"
   ]
  },
  {
   "cell_type": "markdown",
   "metadata": {},
   "source": [
    "### Training & Validation"
   ]
  },
  {
   "cell_type": "code",
   "execution_count": 5,
   "metadata": {},
   "outputs": [],
   "source": [
    "df_train_validate = df[0:11670]# Training and validation\n",
    "df_test = df[11670:]# Final Testing"
   ]
  },
  {
   "cell_type": "markdown",
   "metadata": {},
   "source": [
    "#### Drop Poorly Correlated"
   ]
  },
  {
   "cell_type": "code",
   "execution_count": 6,
   "metadata": {},
   "outputs": [],
   "source": [
    "drop_cols = ['Winner','Public_Estimate','Odds','Race_ID']\n",
    "df_m = df_train_validate.drop(columns=drop_cols)"
   ]
  },
  {
   "cell_type": "code",
   "execution_count": 7,
   "metadata": {},
   "outputs": [],
   "source": [
    "train_size = 9870\n",
    "train = df_m[0:train_size:]\n",
    "validation = df_m[train_size:]\n",
    "validation_all_features = df_train_validate[train_size:]\n",
    "target=\"Finished\"\n",
    "\n",
    "train_X = train.drop(columns=[target])\n",
    "train_y = train[target]\n",
    "validation_X = validation.drop(columns=[target])\n",
    "validation_y = validation[target]"
   ]
  },
  {
   "cell_type": "code",
   "execution_count": 8,
   "metadata": {},
   "outputs": [
    {
     "name": "stdout",
     "output_type": "stream",
     "text": [
      "Training Accuracy 0.272\n"
     ]
    }
   ],
   "source": [
    "model = GradientBoostingClassifier(n_estimators=10)\n",
    "\n",
    "model.fit(train_X,train_y)\n",
    "print(\"Training Accuracy\",round(accuracy_score(train_y, model.predict(train_X)),3))"
   ]
  },
  {
   "cell_type": "code",
   "execution_count": 9,
   "metadata": {},
   "outputs": [
    {
     "name": "stdout",
     "output_type": "stream",
     "text": [
      "Validation Accuracy 0.225\n"
     ]
    }
   ],
   "source": [
    "predicted_fin = model.predict(validation_X)\n",
    "print(\"Validation Accuracy\",round(accuracy_score(validation_y, predicted_fin),3))"
   ]
  },
  {
   "cell_type": "code",
   "execution_count": 10,
   "metadata": {},
   "outputs": [],
   "source": [
    "public_y = list(validation_all_features['Public_Estimate'])"
   ]
  },
  {
   "cell_type": "code",
   "execution_count": 11,
   "metadata": {},
   "outputs": [
    {
     "name": "stdout",
     "output_type": "stream",
     "text": [
      "Public Accuracy 0.219\n"
     ]
    }
   ],
   "source": [
    "print(\"Public Accuracy\",round(accuracy_score(validation_y,public_y),3))"
   ]
  },
  {
   "cell_type": "markdown",
   "metadata": {},
   "source": [
    "#### Validation R-squared, Coefficient of Determination"
   ]
  },
  {
   "cell_type": "code",
   "execution_count": 12,
   "metadata": {},
   "outputs": [
    {
     "name": "stdout",
     "output_type": "stream",
     "text": [
      "0.071\n"
     ]
    },
    {
     "data": {
      "image/png": "[encoded data removed]",
      "text/plain": [
       "<Figure size 432x288 with 1 Axes>"
      ]
     },
     "metadata": {
      "needs_background": "light"
     },
     "output_type": "display_data"
    }
   ],
   "source": [
    "# Sample data\n",
    "x,y = predicted_fin,validation_y\n",
    "print(round(pearsonr(predicted_fin,validation_y)[0]**2,3))\n",
    "# Fit with polyfit\n",
    "b, m = polyfit(x, y, 1)\n",
    "\n",
    "plt.plot(x, y, '.')\n",
    "plt.plot(x, b + m * x, '-')\n",
    "plt.show()"
   ]
  },
  {
   "cell_type": "markdown",
   "metadata": {},
   "source": [
    "#### Validation R-squared (market)"
   ]
  },
  {
   "cell_type": "code",
   "execution_count": 13,
   "metadata": {},
   "outputs": [
    {
     "name": "stdout",
     "output_type": "stream",
     "text": [
      "0.069\n"
     ]
    },
    {
     "data": {
      "image/png": "[encoded data removed]",
      "text/plain": [
       "<Figure size 432x288 with 1 Axes>"
      ]
     },
     "metadata": {
      "needs_background": "light"
     },
     "output_type": "display_data"
    }
   ],
   "source": [
    "# Sample data\n",
    "x,y = np.array(public_y), validation_y\n",
    "print(round(pearsonr(public_y,validation_y)[0]**2,3))\n",
    "# Fit with polyfit\n",
    "b, m = polyfit(x, y, 1)\n",
    "\n",
    "plt.plot(x, y, '.')\n",
    "plt.plot(x, b + m*x, '-')\n",
    "plt.show()"
   ]
  },
  {
   "cell_type": "markdown",
   "metadata": {},
   "source": [
    "#### Validation, Mean Absolute Error"
   ]
  },
  {
   "cell_type": "code",
   "execution_count": 14,
   "metadata": {},
   "outputs": [
    {
     "name": "stdout",
     "output_type": "stream",
     "text": [
      "Mean Absolute Error\n",
      "- - - - - - - - - - - - - - -\n",
      "Model:  1.802\n",
      "Market: 1.606\n"
     ]
    }
   ],
   "source": [
    "print(\"Mean Absolute Error\")\n",
    "print(\"- - - - - - - - - - - - - - -\")\n",
    "print(\"Model: \",round(mean_absolute_error(validation_y,predicted_fin),3))\n",
    "print(\"Market:\",round(mean_absolute_error(validation_y,public_y),3))"
   ]
  },
  {
   "cell_type": "markdown",
   "metadata": {},
   "source": [
    "#### Feature Importances"
   ]
  },
  {
   "cell_type": "code",
   "execution_count": 15,
   "metadata": {},
   "outputs": [],
   "source": [
    "importances = model.feature_importances_"
   ]
  },
  {
   "cell_type": "code",
   "execution_count": 16,
   "metadata": {},
   "outputs": [],
   "source": [
    "col_importances = zip(train_X.columns,importances)\n",
    "col_importances = sorted([(x[0],round(x[1],2)) for x in col_importances], key=lambda x: x[1],reverse=True)"
   ]
  },
  {
   "cell_type": "code",
   "execution_count": 17,
   "metadata": {},
   "outputs": [
    {
     "name": "stdout",
     "output_type": "stream",
     "text": [
      "BSP                   53% *****************************************************\n",
      "Finish_All            6% ******\n",
      "Distance_All          4% ****\n",
      "Races_All             4% ****\n",
      "Finish_Recent         4% ****\n",
      "Odds_Recent           3% ***\n",
      "Races_380             3% ***\n",
      "Early_Time_380        3% ***\n",
      "Stay_380              3% ***\n",
      "Last_Run              2% **\n",
      "Distance_Places_All   2% **\n",
      "Distance_Recent       2% **\n",
      "Early_Recent          2% **\n",
      "Dist_By               2% **\n",
      "Trap                  1% *\n",
      "Wins_380              1% *\n",
      "Finish_380            1% *\n",
      "Odds_380              1% *\n",
      "Grade_380             1% *\n",
      "Time_380              1% *\n",
      "Wide_380              1% *\n",
      "Gng                   1% *\n",
      "Early_380             0% \n",
      "Favourite             0% \n"
     ]
    }
   ],
   "source": [
    "num = 1\n",
    "for col_imp in col_importances:\n",
    "    print(col_imp[0],(20 - len(col_imp[0]))*\" \",str(int(col_imp[1]*100))+\"%\",\"*\"*int(col_imp[1]*100))\n",
    "    #print(\"- - -\")\n",
    "    num+=1"
   ]
  },
  {
   "cell_type": "code",
   "execution_count": 18,
   "metadata": {},
   "outputs": [
    {
     "name": "stdout",
     "output_type": "stream",
     "text": [
      "'BSP',\n",
      "'Finish_All',\n",
      "'Distance_All',\n",
      "'Races_All',\n",
      "'Finish_Recent',\n",
      "'Odds_Recent',\n",
      "'Races_380',\n",
      "'Early_Time_380',\n",
      "'Stay_380',\n",
      "'Last_Run',\n",
      "'Distance_Places_All',\n",
      "'Distance_Recent',\n",
      "'Early_Recent',\n",
      "'Dist_By',\n",
      "'Trap',\n",
      "'Wins_380',\n",
      "'Finish_380',\n",
      "'Odds_380',\n",
      "'Grade_380',\n",
      "'Time_380',\n",
      "'Wide_380',\n",
      "'Gng',\n",
      "'Early_380',\n",
      "'Favourite',\n"
     ]
    }
   ],
   "source": [
    "for x in col_importances:\n",
    "    print(\"'\"+x[0]+\"',\")"
   ]
  },
  {
   "cell_type": "markdown",
   "metadata": {},
   "source": [
    "### Testing"
   ]
  },
  {
   "cell_type": "code",
   "execution_count": 19,
   "metadata": {},
   "outputs": [],
   "source": [
    "df_test = df_test.drop(columns=drop_cols)"
   ]
  },
  {
   "cell_type": "code",
   "execution_count": 20,
   "metadata": {},
   "outputs": [],
   "source": [
    "test_X = df_test.drop(columns=[target])\n",
    "test_y = df_test[target]"
   ]
  },
  {
   "cell_type": "code",
   "execution_count": 21,
   "metadata": {},
   "outputs": [
    {
     "name": "stdout",
     "output_type": "stream",
     "text": [
      "Test Accuracy 0.219\n"
     ]
    }
   ],
   "source": [
    "predicted_fin = model.predict(test_X)\n",
    "print(\"Test Accuracy\",round(accuracy_score(test_y, predicted_fin),3))"
   ]
  },
  {
   "cell_type": "code",
   "execution_count": 22,
   "metadata": {},
   "outputs": [],
   "source": [
    "public_y = list(df[11670:]['Public_Estimate']) # converting to list so its the same type as test_y"
   ]
  },
  {
   "cell_type": "code",
   "execution_count": 23,
   "metadata": {},
   "outputs": [
    {
     "name": "stdout",
     "output_type": "stream",
     "text": [
      "Public Accuracy 0.212\n"
     ]
    }
   ],
   "source": [
    "print(\"Public Accuracy\",round(accuracy_score(test_y,public_y),3))"
   ]
  },
  {
   "cell_type": "markdown",
   "metadata": {},
   "source": [
    "### Accuracy for each class"
   ]
  },
  {
   "cell_type": "code",
   "execution_count": 24,
   "metadata": {},
   "outputs": [
    {
     "name": "stdout",
     "output_type": "stream",
     "text": [
      "Accuracy Score Each Class\n",
      "- - - - - - - - - - - - - - - - - - - - \n",
      "First      0.48\n",
      "Second     0.08\n",
      "Third      0.09\n",
      "Fourth     0.11\n",
      "Fifth      0.11\n",
      "Sixth      0.43\n"
     ]
    }
   ],
   "source": [
    "matrix = confusion_matrix(test_y, predicted_fin)\n",
    "labls = [\"First\",\"Second\",\"Third\",\"Fourth\",\"Fifth\",\"Sixth\"]\n",
    "acc_scores = [round(x,2) for x in list(matrix.diagonal()/matrix.sum(axis=1))]\n",
    "accs = zip(labls,acc_scores)\n",
    "print(\"Accuracy Score Each Class\")\n",
    "print(\"- - - - - - - - - - - - - - - - - - - - \")\n",
    "for a in accs:\n",
    "    print(a[0],\" \"*(9-len(a[0])),a[1])"
   ]
  },
  {
   "cell_type": "code",
   "execution_count": 25,
   "metadata": {},
   "outputs": [],
   "source": [
    "# ALL 0.274,0.226\n",
    "# ~'Early_380','Favourite' 0.273,0.226\n",
    "# ~'Grade_380','Wide_380' 0.268,0.232\n",
    "# ~'Wins_380','Finish_380' 0.269,0.231\n",
    "# ~'Time_380','Trap' 0.271,0.227\n",
    "# ~'Early_Recent','Odds_380 0.269,0.227\n",
    "# ~'Last_Run','Distance_Recent' 0.269,0.225\n",
    "# ~'Races_380','Early_Time_380' 0.265,0.224"
   ]
  },
  {
   "cell_type": "code",
   "execution_count": 26,
   "metadata": {},
   "outputs": [
    {
     "data": {
      "text/plain": [
       "\"\\n'Stay_380',\\n'Last_Run',\\n'Distance_Places_All',\\n'Distance_Recent',\\n'Early_Recent',\\n'Odds_380',\\n'Time_380',\\n'Trap',\\n'Wins_380',\\n'Finish_380',\\n'Grade_380',\\n'Wide_380',\\n'Early_380',\\n'Favourite'\\n\""
      ]
     },
     "execution_count": 26,
     "metadata": {},
     "output_type": "execute_result"
    }
   ],
   "source": [
    "# REMOVE 6\n",
    "'''\n",
    "'Stay_380',\n",
    "'Last_Run',\n",
    "'Distance_Places_All',\n",
    "'Distance_Recent',\n",
    "'Early_Recent',\n",
    "'Odds_380',\n",
    "'Time_380',\n",
    "'Trap'\n",
    "'''\n",
    "# 0.269, 0.231\n",
    "\n",
    "# REMOVE 14\n",
    "'''\n",
    "'Stay_380',\n",
    "'Last_Run',\n",
    "'Distance_Places_All',\n",
    "'Distance_Recent',\n",
    "'Early_Recent',\n",
    "'Odds_380',\n",
    "'Time_380',\n",
    "'Trap',\n",
    "'Wins_380',\n",
    "'Finish_380',\n",
    "'Grade_380',\n",
    "'Wide_380',\n",
    "'Early_380',\n",
    "'Favourite'\n",
    "'''\n",
    "# 0.268,0.222"
   ]
  },
  {
   "cell_type": "markdown",
   "metadata": {},
   "source": [
    "### Mean Absolute Error"
   ]
  },
  {
   "cell_type": "code",
   "execution_count": 27,
   "metadata": {},
   "outputs": [
    {
     "name": "stdout",
     "output_type": "stream",
     "text": [
      "Mean Absolute Error\n",
      "- - - - - - - - - - - - - - -\n",
      "Model:  1.908\n",
      "Market: 1.681\n"
     ]
    }
   ],
   "source": [
    "print(\"Mean Absolute Error\")\n",
    "print(\"- - - - - - - - - - - - - - -\")\n",
    "print(\"Model: \",round(mean_absolute_error(test_y,predicted_fin),3))\n",
    "print(\"Market:\",round(mean_absolute_error(test_y,public_y),3))"
   ]
  },
  {
   "cell_type": "markdown",
   "metadata": {},
   "source": [
    "### R-squared (Coefficient of Determination)"
   ]
  },
  {
   "cell_type": "code",
   "execution_count": 28,
   "metadata": {},
   "outputs": [
    {
     "name": "stdout",
     "output_type": "stream",
     "text": [
      "R-squared Score/Error\n",
      "- - - - - - - - - - - - - - -\n",
      "Model:  -1.056\n",
      "Market: -0.585\n"
     ]
    }
   ],
   "source": [
    "print(\"R-squared Score/Error\")\n",
    "print(\"- - - - - - - - - - - - - - -\")\n",
    "print(\"Model: \",round(r2_score(test_y,predicted_fin),3))\n",
    "print(\"Market:\",round(r2_score(test_y,public_y),3))"
   ]
  },
  {
   "cell_type": "markdown",
   "metadata": {},
   "source": [
    "### Pearson Correlation of Model Preds/Market Preds and Real Fin Position/Results"
   ]
  },
  {
   "cell_type": "markdown",
   "metadata": {},
   "source": [
    "#### Model"
   ]
  },
  {
   "cell_type": "code",
   "execution_count": 29,
   "metadata": {},
   "outputs": [
    {
     "name": "stdout",
     "output_type": "stream",
     "text": [
      "0.035\n"
     ]
    },
    {
     "data": {
      "image/png": "[encoded data removed]",
      "text/plain": [
       "<Figure size 432x288 with 1 Axes>"
      ]
     },
     "metadata": {
      "needs_background": "light"
     },
     "output_type": "display_data"
    }
   ],
   "source": [
    "# Sample data\n",
    "x,y = np.array(predicted_fin),test_y\n",
    "print(round(pearsonr(predicted_fin,test_y)[0]**2,3))\n",
    "# Fit with polyfit\n",
    "b, m = polyfit(x, y, 1)\n",
    "\n",
    "plt.plot(x, y, '.')\n",
    "plt.plot(x, b + m * x, '-')\n",
    "plt.show()"
   ]
  },
  {
   "cell_type": "markdown",
   "metadata": {},
   "source": [
    "#### Public"
   ]
  },
  {
   "cell_type": "code",
   "execution_count": 30,
   "metadata": {},
   "outputs": [
    {
     "name": "stdout",
     "output_type": "stream",
     "text": [
      "0.043\n"
     ]
    },
    {
     "data": {
      "image/png": "[encoded data removed]",
      "text/plain": [
       "<Figure size 432x288 with 1 Axes>"
      ]
     },
     "metadata": {
      "needs_background": "light"
     },
     "output_type": "display_data"
    }
   ],
   "source": [
    "# Sample data\n",
    "x,y = np.array(public_y), test_y\n",
    "print(round(pearsonr(public_y,test_y)[0]**2,3))\n",
    "# Fit with polyfit\n",
    "b, m = polyfit(x, y, 1)\n",
    "\n",
    "plt.plot(x, y, '.')\n",
    "plt.plot(x, b + m*x, '-')\n",
    "plt.show()"
   ]
  },
  {
   "cell_type": "code",
   "execution_count": 31,
   "metadata": {},
   "outputs": [],
   "source": [
    "the_dict = {'one':0,'two':0,'three':0,'four':0,'five':0,'six':0}\n",
    "\n",
    "for x in predicted_fin:\n",
    "    if x ==1:\n",
    "        the_dict['one']+=1\n",
    "    elif x ==2:\n",
    "        the_dict['two']+=1\n",
    "    elif x ==3:\n",
    "        the_dict['three']+=1\n",
    "    elif x ==4:\n",
    "        the_dict['four']+=1\n",
    "    elif x ==5:\n",
    "        the_dict['five']+=1\n",
    "    elif x ==6:\n",
    "        the_dict['six']+=1"
   ]
  },
  {
   "cell_type": "code",
   "execution_count": 32,
   "metadata": {},
   "outputs": [
    {
     "name": "stdout",
     "output_type": "stream",
     "text": [
      "{'one': 717, 'two': 177, 'three': 195, 'four': 212, 'five': 201, 'six': 670}\n"
     ]
    }
   ],
   "source": [
    "print(the_dict)"
   ]
  },
  {
   "cell_type": "markdown",
   "metadata": {},
   "source": [
    "### Classification Report"
   ]
  },
  {
   "cell_type": "code",
   "execution_count": 33,
   "metadata": {},
   "outputs": [
    {
     "name": "stdout",
     "output_type": "stream",
     "text": [
      "              precision    recall  f1-score   support\n",
      "\n",
      "       first       0.24      0.48      0.32       362\n",
      "      second       0.16      0.08      0.10       363\n",
      "       third       0.17      0.09      0.12       361\n",
      "      fourth       0.19      0.11      0.14       362\n",
      "       fifth       0.20      0.11      0.15       362\n",
      "       sixth       0.23      0.43      0.30       362\n",
      "\n",
      "    accuracy                           0.22      2172\n",
      "   macro avg       0.20      0.22      0.19      2172\n",
      "weighted avg       0.20      0.22      0.19      2172\n",
      "\n"
     ]
    }
   ],
   "source": [
    "target_names = ['first', 'second', 'third','fourth', 'fifth', 'sixth']\n",
    "print(classification_report(test_y, predicted_fin, target_names=target_names))"
   ]
  },
  {
   "cell_type": "markdown",
   "metadata": {},
   "source": [
    "### Probability Win"
   ]
  },
  {
   "cell_type": "code",
   "execution_count": 34,
   "metadata": {},
   "outputs": [],
   "source": [
    "predicted_fin = model.predict_proba(test_X)\n",
    "win_probs = [x[0] for x in predicted_fin]\n",
    "test_X['WIN_PROB'] = win_probs"
   ]
  },
  {
   "cell_type": "code",
   "execution_count": 35,
   "metadata": {},
   "outputs": [
    {
     "data": {
      "text/html": [
       "<div>\n",
       "<style scoped>\n",
       "    .dataframe tbody tr th:only-of-type {\n",
       "        vertical-align: middle;\n",
       "    }\n",
       "\n",
       "    .dataframe tbody tr th {\n",
       "        vertical-align: top;\n",
       "    }\n",
       "\n",
       "    .dataframe thead th {\n",
       "        text-align: right;\n",
       "    }\n",
       "</style>\n",
       "<table border=\"1\" class=\"dataframe\">\n",
       "  <thead>\n",
       "    <tr style=\"text-align: right;\">\n",
       "      <th></th>\n",
       "      <th>Trap</th>\n",
       "      <th>BSP</th>\n",
       "      <th>Last_Run</th>\n",
       "      <th>Distance_All</th>\n",
       "      <th>Finish_All</th>\n",
       "      <th>Distance_Places_All</th>\n",
       "      <th>Races_All</th>\n",
       "      <th>Distance_Recent</th>\n",
       "      <th>Finish_Recent</th>\n",
       "      <th>Odds_Recent</th>\n",
       "      <th>...</th>\n",
       "      <th>Early_380</th>\n",
       "      <th>Grade_380</th>\n",
       "      <th>Time_380</th>\n",
       "      <th>Early_Time_380</th>\n",
       "      <th>Stay_380</th>\n",
       "      <th>Favourite</th>\n",
       "      <th>Wide_380</th>\n",
       "      <th>Dist_By</th>\n",
       "      <th>Gng</th>\n",
       "      <th>WIN_PROB</th>\n",
       "    </tr>\n",
       "  </thead>\n",
       "  <tbody>\n",
       "    <tr>\n",
       "      <td>0</td>\n",
       "      <td>6.0</td>\n",
       "      <td>4.66</td>\n",
       "      <td>12</td>\n",
       "      <td>387.42</td>\n",
       "      <td>3.63</td>\n",
       "      <td>381.70</td>\n",
       "      <td>45</td>\n",
       "      <td>380.0</td>\n",
       "      <td>3.43</td>\n",
       "      <td>3.86</td>\n",
       "      <td>...</td>\n",
       "      <td>2.86</td>\n",
       "      <td>6.71</td>\n",
       "      <td>24.28</td>\n",
       "      <td>3.67</td>\n",
       "      <td>0.57</td>\n",
       "      <td>1.0</td>\n",
       "      <td>0.57</td>\n",
       "      <td>-3.43</td>\n",
       "      <td>20.0</td>\n",
       "      <td>0.193074</td>\n",
       "    </tr>\n",
       "    <tr>\n",
       "      <td>1</td>\n",
       "      <td>3.0</td>\n",
       "      <td>9.00</td>\n",
       "      <td>5</td>\n",
       "      <td>371.69</td>\n",
       "      <td>4.06</td>\n",
       "      <td>366.38</td>\n",
       "      <td>49</td>\n",
       "      <td>380.0</td>\n",
       "      <td>4.73</td>\n",
       "      <td>7.50</td>\n",
       "      <td>...</td>\n",
       "      <td>3.57</td>\n",
       "      <td>5.00</td>\n",
       "      <td>24.86</td>\n",
       "      <td>3.77</td>\n",
       "      <td>0.86</td>\n",
       "      <td>1.0</td>\n",
       "      <td>0.00</td>\n",
       "      <td>-8.43</td>\n",
       "      <td>20.0</td>\n",
       "      <td>0.142468</td>\n",
       "    </tr>\n",
       "    <tr>\n",
       "      <td>2</td>\n",
       "      <td>5.0</td>\n",
       "      <td>5.40</td>\n",
       "      <td>5</td>\n",
       "      <td>394.00</td>\n",
       "      <td>3.31</td>\n",
       "      <td>399.40</td>\n",
       "      <td>21</td>\n",
       "      <td>380.0</td>\n",
       "      <td>2.57</td>\n",
       "      <td>4.04</td>\n",
       "      <td>...</td>\n",
       "      <td>3.86</td>\n",
       "      <td>7.29</td>\n",
       "      <td>24.31</td>\n",
       "      <td>3.68</td>\n",
       "      <td>-1.29</td>\n",
       "      <td>1.0</td>\n",
       "      <td>0.29</td>\n",
       "      <td>-1.86</td>\n",
       "      <td>20.0</td>\n",
       "      <td>0.162536</td>\n",
       "    </tr>\n",
       "    <tr>\n",
       "      <td>3</td>\n",
       "      <td>1.0</td>\n",
       "      <td>3.52</td>\n",
       "      <td>12</td>\n",
       "      <td>428.70</td>\n",
       "      <td>3.57</td>\n",
       "      <td>420.00</td>\n",
       "      <td>46</td>\n",
       "      <td>380.0</td>\n",
       "      <td>3.57</td>\n",
       "      <td>5.93</td>\n",
       "      <td>...</td>\n",
       "      <td>4.29</td>\n",
       "      <td>6.57</td>\n",
       "      <td>24.27</td>\n",
       "      <td>3.71</td>\n",
       "      <td>-0.72</td>\n",
       "      <td>1.0</td>\n",
       "      <td>0.00</td>\n",
       "      <td>-3.43</td>\n",
       "      <td>20.0</td>\n",
       "      <td>0.227370</td>\n",
       "    </tr>\n",
       "    <tr>\n",
       "      <td>4</td>\n",
       "      <td>4.0</td>\n",
       "      <td>12.00</td>\n",
       "      <td>6</td>\n",
       "      <td>392.95</td>\n",
       "      <td>3.50</td>\n",
       "      <td>396.39</td>\n",
       "      <td>39</td>\n",
       "      <td>380.0</td>\n",
       "      <td>4.00</td>\n",
       "      <td>5.86</td>\n",
       "      <td>...</td>\n",
       "      <td>2.57</td>\n",
       "      <td>5.29</td>\n",
       "      <td>24.35</td>\n",
       "      <td>3.69</td>\n",
       "      <td>1.43</td>\n",
       "      <td>1.0</td>\n",
       "      <td>0.00</td>\n",
       "      <td>-5.32</td>\n",
       "      <td>20.0</td>\n",
       "      <td>0.109840</td>\n",
       "    </tr>\n",
       "  </tbody>\n",
       "</table>\n",
       "<p>5 rows × 25 columns</p>\n",
       "</div>"
      ],
      "text/plain": [
       "   Trap    BSP  Last_Run  Distance_All  Finish_All  Distance_Places_All  \\\n",
       "0   6.0   4.66        12        387.42        3.63               381.70   \n",
       "1   3.0   9.00         5        371.69        4.06               366.38   \n",
       "2   5.0   5.40         5        394.00        3.31               399.40   \n",
       "3   1.0   3.52        12        428.70        3.57               420.00   \n",
       "4   4.0  12.00         6        392.95        3.50               396.39   \n",
       "\n",
       "   Races_All  Distance_Recent  Finish_Recent  Odds_Recent  ...  Early_380  \\\n",
       "0         45            380.0           3.43         3.86  ...       2.86   \n",
       "1         49            380.0           4.73         7.50  ...       3.57   \n",
       "2         21            380.0           2.57         4.04  ...       3.86   \n",
       "3         46            380.0           3.57         5.93  ...       4.29   \n",
       "4         39            380.0           4.00         5.86  ...       2.57   \n",
       "\n",
       "   Grade_380  Time_380  Early_Time_380  Stay_380  Favourite  Wide_380  \\\n",
       "0       6.71     24.28            3.67      0.57        1.0      0.57   \n",
       "1       5.00     24.86            3.77      0.86        1.0      0.00   \n",
       "2       7.29     24.31            3.68     -1.29        1.0      0.29   \n",
       "3       6.57     24.27            3.71     -0.72        1.0      0.00   \n",
       "4       5.29     24.35            3.69      1.43        1.0      0.00   \n",
       "\n",
       "   Dist_By   Gng  WIN_PROB  \n",
       "0    -3.43  20.0  0.193074  \n",
       "1    -8.43  20.0  0.142468  \n",
       "2    -1.86  20.0  0.162536  \n",
       "3    -3.43  20.0  0.227370  \n",
       "4    -5.32  20.0  0.109840  \n",
       "\n",
       "[5 rows x 25 columns]"
      ]
     },
     "execution_count": 35,
     "metadata": {},
     "output_type": "execute_result"
    }
   ],
   "source": [
    "test_X = test_X.reset_index()\n",
    "test_X =test_X.drop(columns=['index'])\n",
    "test_X.head()"
   ]
  },
  {
   "cell_type": "code",
   "execution_count": 36,
   "metadata": {},
   "outputs": [],
   "source": [
    "test_X = test_X.sort_values(by=['WIN_PROB'], ascending=False)"
   ]
  },
  {
   "cell_type": "code",
   "execution_count": 37,
   "metadata": {},
   "outputs": [],
   "source": [
    "ind = test_X['WIN_PROB'].idxmax()"
   ]
  },
  {
   "cell_type": "code",
   "execution_count": 38,
   "metadata": {},
   "outputs": [],
   "source": [
    "best = test_X.iloc[[ind]]\n",
    "columns = best.columns\n",
    "#the_best = []\n",
    "#for col in columns:\n",
    "#    the_best.append((col,best[col].item()))\n",
    "#for x in the_best:\n",
    "#    print(x[0],\"   \",x[1])\"\"\""
   ]
  },
  {
   "cell_type": "code",
   "execution_count": 39,
   "metadata": {},
   "outputs": [],
   "source": [
    "top_9 = test_X.head(9)"
   ]
  },
  {
   "cell_type": "code",
   "execution_count": 40,
   "metadata": {},
   "outputs": [
    {
     "name": "stdout",
     "output_type": "stream",
     "text": [
      "Trap  - - -  3.0  - - -  3.5\n",
      "BSP  - - -  2.57  - - -  6.4\n",
      "Last_Run  - - -  7.0  - - -  7.0\n",
      "Distance_All  - - -  380.0  - - -  389.52\n",
      "Finish_All  - - -  3.79  - - -  3.61\n",
      "Distance_Places_All  - - -  380.0  - - -  388.0\n",
      "Races_All  - - -  16.0  - - -  43.0\n",
      "Distance_Recent  - - -  380.0  - - -  380.0\n",
      "Finish_Recent  - - -  3.29  - - -  3.57\n",
      "Odds_Recent  - - -  4.68  - - -  5.14\n",
      "Early_Recent  - - -  3.14  - - -  3.57\n",
      "Races_380  - - -  12.0  - - -  24.0\n",
      "Wins_380  - - -  0.14  - - -  0.18\n",
      "Finish_380  - - -  3.4  - - -  3.43\n",
      "Odds_380  - - -  5.0  - - -  5.14\n",
      "Early_380  - - -  3.4874327000660093  - - -  3.4874327000660093\n",
      "Grade_380  - - -  7.29  - - -  6.0\n",
      "Time_380  - - -  24.51  - - -  24.31\n",
      "Early_Time_380  - - -  3.72  - - -  3.7\n",
      "Stay_380  - - -  0.0  - - -  0.0\n",
      "Favourite  - - -  3.0  - - -  3.0\n",
      "Wide_380  - - -  0.0  - - -  0.0\n",
      "Dist_By  - - -  -4.4868803638230785  - - -  -4.0\n",
      "Gng  - - -  20.0  - - -  10.0\n"
     ]
    }
   ],
   "source": [
    "for col in columns:\n",
    "    try:\n",
    "        print(col,\" - - - \",top_9[col].median(),\" - - - \",df[col].median())\n",
    "    except:\n",
    "        pass"
   ]
  },
  {
   "cell_type": "code",
   "execution_count": null,
   "metadata": {},
   "outputs": [],
   "source": []
  },
  {
   "cell_type": "code",
   "execution_count": null,
   "metadata": {},
   "outputs": [],
   "source": []
  },
  {
   "cell_type": "code",
   "execution_count": null,
   "metadata": {},
   "outputs": [],
   "source": []
  }
 ],
 "metadata": {
  "kernelspec": {
   "display_name": "Python 3",
   "language": "python",
   "name": "python3"
  },
  "language_info": {
   "codemirror_mode": {
    "name": "ipython",
    "version": 3
   },
   "file_extension": ".py",
   "mimetype": "text/x-python",
   "name": "python",
   "nbconvert_exporter": "python",
   "pygments_lexer": "ipython3",
   "version": "3.7.4"
  }
 },
 "nbformat": 4,
 "nbformat_minor": 4
}
