{
 "cells": [
  {
   "cell_type": "code",
   "execution_count": 1,
   "metadata": {},
   "outputs": [],
   "source": [
    "# Import necessary packages\n",
    "import pandas as pd\n",
    "import numpy as np\n",
    "\n",
    "# Machine Learning\n",
    "from sklearn.metrics import accuracy_score\n",
    "from sklearn.ensemble import GradientBoostingClassifier\n",
    "\n",
    "# Viz\n",
    "import matplotlib.pyplot\n",
    "from numpy.polynomial.polynomial import polyfit\n",
    "import matplotlib.pyplot as plt\n",
    "\n",
    "\n",
    "# evaluation metrics\n",
    "from scipy.stats import pearsonr\n",
    "from sklearn.metrics import classification_report\n",
    "from sklearn.metrics import mean_absolute_error\n",
    "from sklearn.metrics import r2_score\n",
    "from sklearn.metrics import confusion_matrix"
   ]
  },
  {
   "cell_type": "code",
   "execution_count": 2,
   "metadata": {},
   "outputs": [],
   "source": [
    "\n",
    "df = pd.read_csv(\"data_final_with_gng.csv\", encoding = \"ISO-8859-1\") \n"
   ]
  },
  {
   "cell_type": "code",
   "execution_count": 3,
   "metadata": {},
   "outputs": [
    {
     "name": "stdout",
     "output_type": "stream",
     "text": [
      "COLUMN              DATATYPE       EXAMPLE\n",
      "----------------------------------------------------------------------\n",
      "Race_ID             int64          1487.0\n",
      "Trap                float64          6.0\n",
      "Odds                float64          7.0\n",
      "BSP                 float64          8.63\n",
      "Public_Estimate     float64          5.0\n",
      "Last_Run            int64          9.0\n",
      "Distance_All        float64          380.0\n",
      "Finish_All          float64          3.13\n",
      "Distance_Places_All  float64          380.0\n",
      "Races_All           int64          21.0\n",
      "Distance_Recent     float64          380.0\n",
      "Finish_Recent       float64          2.57\n",
      "Odds_Recent         float64          5.0\n",
      "Early_Recent        float64          2.43\n",
      "Races_380           int64          16.0\n",
      "Wins_380            float64          0.25\n",
      "Finish_380          float64          2.57\n",
      "Odds_380            float64          5.0\n",
      "Early_380           float64          2.43\n",
      "Grade_380           float64          4.0\n",
      "Time_380            float64          23.94\n",
      "Early_Time_380      float64          3.61\n",
      "Stay_380            float64          0.13999999999999968\n",
      "Favourite           float64          2.0\n",
      "Finished            float64          3.0\n",
      "Wide_380            float64          0.29\n",
      "Dist_By             float64          -3.0\n",
      "Gng                 float64          30.0\n",
      "Winner              int64          0.0\n"
     ]
    }
   ],
   "source": [
    "print(\"COLUMN              DATATYPE       EXAMPLE\")\n",
    "print(\"----------------------------------------------------------------------\")\n",
    "for col in df.columns:\n",
    "    print(col,\" \"*(18-len(col)),df[col].dtype,\" \"*(8-len(df[col].dtype)),df.iloc[8925][col])"
   ]
  },
  {
   "cell_type": "code",
   "execution_count": 4,
   "metadata": {},
   "outputs": [],
   "source": [
    "#df.info()"
   ]
  },
  {
   "cell_type": "markdown",
   "metadata": {},
   "source": [
    "#### Relativise Features"
   ]
  },
  {
   "cell_type": "code",
   "execution_count": 5,
   "metadata": {},
   "outputs": [
    {
     "data": {
      "text/plain": [
       "'df[\"Early_Recent\"] = df.groupby(\"Race_ID\").transform(lambda x: x-x.median())[\\'Early_Recent\\']\\ndf[\"Finish_Recent\"] = df.groupby(\"Race_ID\").transform(lambda x: x-x.median())[\\'Finish_Recent\\']\\ndf[\"Odds_Recent\"] = df.groupby(\"Race_ID\").transform(lambda x: x-x.median())[\\'Odds_Recent\\']\\ndf[\"Early_380\"] = df.groupby(\"Race_ID\").transform(lambda x: x-x.median())[\"Early_380\"]\\ndf[\"Finish_380\"] = df.groupby(\"Race_ID\").transform(lambda x: x-x.median())[\"Finish_380\"]\\ndf[\"Odds_380\"] = df.groupby(\"Race_ID\").transform(lambda x: x-x.median())[\"Odds_380\"]\\ndf[\"Stay_380\"] = df.groupby(\"Race_ID\").transform(lambda x: x-x.median())[\"Stay_380\"]\\ndf[\"Early_Time_380\"] = df.groupby(\"Race_ID\").transform(lambda x: x-x.median())[\"Early_Time_380\"]\\ndf[\"Time_380\"] = df.groupby(\"Race_ID\").transform(lambda x: x-x.median())[\"Time_380\"]'"
      ]
     },
     "execution_count": 5,
     "metadata": {},
     "output_type": "execute_result"
    }
   ],
   "source": [
    "\"\"\"df[\"Early_Recent\"] = df.groupby(\"Race_ID\").transform(lambda x: x-x.median())['Early_Recent']\n",
    "df[\"Finish_Recent\"] = df.groupby(\"Race_ID\").transform(lambda x: x-x.median())['Finish_Recent']\n",
    "df[\"Odds_Recent\"] = df.groupby(\"Race_ID\").transform(lambda x: x-x.median())['Odds_Recent']\n",
    "df[\"Early_380\"] = df.groupby(\"Race_ID\").transform(lambda x: x-x.median())[\"Early_380\"]\n",
    "df[\"Finish_380\"] = df.groupby(\"Race_ID\").transform(lambda x: x-x.median())[\"Finish_380\"]\n",
    "df[\"Odds_380\"] = df.groupby(\"Race_ID\").transform(lambda x: x-x.median())[\"Odds_380\"]\n",
    "df[\"Stay_380\"] = df.groupby(\"Race_ID\").transform(lambda x: x-x.median())[\"Stay_380\"]\n",
    "df[\"Early_Time_380\"] = df.groupby(\"Race_ID\").transform(lambda x: x-x.median())[\"Early_Time_380\"]\n",
    "df[\"Time_380\"] = df.groupby(\"Race_ID\").transform(lambda x: x-x.median())[\"Time_380\"]\"\"\""
   ]
  },
  {
   "cell_type": "code",
   "execution_count": 6,
   "metadata": {},
   "outputs": [],
   "source": [
    "factors = ['Race_ID','Trap','Odds','BSP','Public_Estimate','Last_Run','Distance_All','Finish_All',\n",
    "'Distance_Places_All','Races_All','Distance_Recent','Finish_Recent','Odds_Recent','Early_Recent',\n",
    "'Races_380','Wins_380','Finish_380','Odds_380','Early_380','Grade_380','Time_380','Early_Time_380',\n",
    "'Stay_380','Favourite','Finished','Wide_380','Dist_By','Gng','Winner']"
   ]
  },
  {
   "cell_type": "markdown",
   "metadata": {},
   "source": [
    "### Training "
   ]
  },
  {
   "cell_type": "markdown",
   "metadata": {},
   "source": [
    "#### Drop Cols"
   ]
  },
  {
   "cell_type": "code",
   "execution_count": 7,
   "metadata": {},
   "outputs": [],
   "source": [
    "drop_cols = ['Winner','Public_Estimate','Odds','Race_ID']\n",
    "df_m = df.drop(columns=drop_cols)"
   ]
  },
  {
   "cell_type": "code",
   "execution_count": 8,
   "metadata": {},
   "outputs": [],
   "source": [
    "train = df_m[0:11670]# Training\n",
    "test = df_m[11670:]# Final Testing\n",
    "target=\"Finished\"\n",
    "\n",
    "train_X = train.drop(columns=[target]) # depedent variable\n",
    "train_y = train[target] #independent variable\n",
    "test_X = test.drop(columns=[target])\n",
    "test_y = test[target]"
   ]
  },
  {
   "cell_type": "code",
   "execution_count": 9,
   "metadata": {},
   "outputs": [
    {
     "data": {
      "text/plain": [
       "'from sklearn.preprocessing import StandardScaler\\nscaler = StandardScaler()\\nscaler.fit(train_X)\\ntrain_X_ = scaler.transform(train_X)\\ntest_X_ = scaler.transform(test_X)\\ntrain_X = pd.DataFrame(train_X_, index=train_X.index, columns=train_X.columns)\\ntest_X = pd.DataFrame(test_X_, index=test_X.index, columns=test_X.columns)\\n'"
      ]
     },
     "execution_count": 9,
     "metadata": {},
     "output_type": "execute_result"
    }
   ],
   "source": [
    "\"\"\"from sklearn.preprocessing import StandardScaler\n",
    "scaler = StandardScaler()\n",
    "scaler.fit(train_X)\n",
    "train_X_ = scaler.transform(train_X)\n",
    "test_X_ = scaler.transform(test_X)\n",
    "train_X = pd.DataFrame(train_X_, index=train_X.index, columns=train_X.columns)\n",
    "test_X = pd.DataFrame(test_X_, index=test_X.index, columns=test_X.columns)\n",
    "\"\"\""
   ]
  },
  {
   "cell_type": "code",
   "execution_count": 10,
   "metadata": {},
   "outputs": [
    {
     "name": "stdout",
     "output_type": "stream",
     "text": [
      "Training Accuracy 0.265\n"
     ]
    }
   ],
   "source": [
    "model =  GradientBoostingClassifier(n_estimators=10)\n",
    "model.fit(train_X,train_y)\n",
    "print(\"Training Accuracy\",round(accuracy_score(train_y, model.predict(train_X)),3))"
   ]
  },
  {
   "cell_type": "code",
   "execution_count": 11,
   "metadata": {},
   "outputs": [
    {
     "name": "stdout",
     "output_type": "stream",
     "text": [
      "Test Accuracy 0.221\n"
     ]
    }
   ],
   "source": [
    "predicted_fin = model.predict(test_X)\n",
    "print(\"Test Accuracy\",round(accuracy_score(test_y, predicted_fin),3))"
   ]
  },
  {
   "cell_type": "code",
   "execution_count": 12,
   "metadata": {},
   "outputs": [],
   "source": [
    "public_y = list(df[11670:]['Public_Estimate'])"
   ]
  },
  {
   "cell_type": "code",
   "execution_count": 13,
   "metadata": {},
   "outputs": [
    {
     "name": "stdout",
     "output_type": "stream",
     "text": [
      "Public Accuracy 0.212\n"
     ]
    }
   ],
   "source": [
    "print(\"Public Accuracy\",round(accuracy_score(test_y,public_y),3))"
   ]
  },
  {
   "cell_type": "markdown",
   "metadata": {},
   "source": [
    "### Accuracy for each class"
   ]
  },
  {
   "cell_type": "code",
   "execution_count": 14,
   "metadata": {},
   "outputs": [
    {
     "name": "stdout",
     "output_type": "stream",
     "text": [
      "Accuracy Score Each Class\n",
      "- - - - - - - - - - - - - - - - - - - - \n",
      "First      0.5\n",
      "Second     0.08\n",
      "Third      0.11\n",
      "Fourth     0.12\n",
      "Fifth      0.14\n",
      "Sixth      0.39\n"
     ]
    }
   ],
   "source": [
    "matrix = confusion_matrix(test_y, predicted_fin)\n",
    "labls = [\"First\",\"Second\",\"Third\",\"Fourth\",\"Fifth\",\"Sixth\"]\n",
    "acc_scores = [round(x,2) for x in list(matrix.diagonal()/matrix.sum(axis=1))]\n",
    "accs = zip(labls,acc_scores)\n",
    "print(\"Accuracy Score Each Class\")\n",
    "print(\"- - - - - - - - - - - - - - - - - - - - \")\n",
    "for a in accs:\n",
    "    print(a[0],\" \"*(9-len(a[0])),a[1])"
   ]
  },
  {
   "cell_type": "markdown",
   "metadata": {},
   "source": [
    "#### Feature Importances"
   ]
  },
  {
   "cell_type": "code",
   "execution_count": 15,
   "metadata": {},
   "outputs": [],
   "source": [
    "importances = model.feature_importances_"
   ]
  },
  {
   "cell_type": "code",
   "execution_count": 16,
   "metadata": {},
   "outputs": [],
   "source": [
    "col_importances = zip(train_X.columns,importances)\n",
    "col_importances = sorted([(x[0],round(x[1],2)) for x in col_importances], key=lambda x: x[1],reverse=True)"
   ]
  },
  {
   "cell_type": "code",
   "execution_count": 17,
   "metadata": {},
   "outputs": [
    {
     "name": "stdout",
     "output_type": "stream",
     "text": [
      "1 BSP                   0.58\n",
      "- - -\n",
      "2 Distance_All          0.04\n",
      "- - -\n",
      "3 Finish_All            0.04\n",
      "- - -\n",
      "4 Time_380              0.04\n",
      "- - -\n",
      "5 Races_All             0.03\n",
      "- - -\n",
      "6 Races_380             0.03\n",
      "- - -\n",
      "7 Early_Time_380        0.03\n",
      "- - -\n",
      "8 Stay_380              0.03\n",
      "- - -\n",
      "9 Dist_By               0.03\n",
      "- - -\n",
      "10 Last_Run              0.02\n",
      "- - -\n",
      "11 Distance_Places_All   0.02\n",
      "- - -\n",
      "12 Finish_Recent         0.02\n",
      "- - -\n",
      "13 Odds_Recent           0.02\n",
      "- - -\n",
      "14 Grade_380             0.02\n",
      "- - -\n",
      "15 Trap                  0.01\n",
      "- - -\n",
      "16 Distance_Recent       0.01\n",
      "- - -\n",
      "17 Early_Recent          0.01\n",
      "- - -\n",
      "18 Wins_380              0.01\n",
      "- - -\n",
      "19 Finish_380            0.01\n",
      "- - -\n",
      "20 Odds_380              0.01\n",
      "- - -\n",
      "21 Gng                   0.01\n",
      "- - -\n",
      "22 Early_380             0.0\n",
      "- - -\n",
      "23 Favourite             0.0\n",
      "- - -\n",
      "24 Wide_380              0.0\n",
      "- - -\n"
     ]
    }
   ],
   "source": [
    "num = 1\n",
    "for col_imp in col_importances:\n",
    "    print(num,col_imp[0],(20 - len(col_imp[0]))*\" \",col_imp[1])\n",
    "    print(\"- - -\")\n",
    "    num+=1"
   ]
  },
  {
   "cell_type": "markdown",
   "metadata": {},
   "source": [
    "### Mean Absolute Error"
   ]
  },
  {
   "cell_type": "code",
   "execution_count": 18,
   "metadata": {},
   "outputs": [
    {
     "name": "stdout",
     "output_type": "stream",
     "text": [
      "Mean Absolute Error\n",
      "- - - - - - - - - - - - - - -\n",
      "Model:  1.877\n",
      "Market: 1.681\n"
     ]
    }
   ],
   "source": [
    "print(\"Mean Absolute Error\")\n",
    "print(\"- - - - - - - - - - - - - - -\")\n",
    "print(\"Model: \",round(mean_absolute_error(test_y,predicted_fin),3))\n",
    "print(\"Market:\",round(mean_absolute_error(test_y,public_y),3))"
   ]
  },
  {
   "cell_type": "markdown",
   "metadata": {},
   "source": [
    "### R-squared (Coefficient of Determination)"
   ]
  },
  {
   "cell_type": "code",
   "execution_count": 19,
   "metadata": {},
   "outputs": [
    {
     "name": "stdout",
     "output_type": "stream",
     "text": [
      "R-squared Score/Error\n",
      "- - - - - - - - - - - - - - -\n",
      "Model:  -0.996\n",
      "Market: -0.585\n"
     ]
    }
   ],
   "source": [
    "print(\"R-squared Score/Error\")\n",
    "print(\"- - - - - - - - - - - - - - -\")\n",
    "print(\"Model: \",round(r2_score(test_y,predicted_fin),3))\n",
    "print(\"Market:\",round(r2_score(test_y,public_y),3))"
   ]
  },
  {
   "cell_type": "markdown",
   "metadata": {},
   "source": [
    "### Pearson Correlation of Model Preds/Market Preds and Real Fin Position/Results"
   ]
  },
  {
   "cell_type": "markdown",
   "metadata": {},
   "source": [
    "#### Model"
   ]
  },
  {
   "cell_type": "code",
   "execution_count": 20,
   "metadata": {},
   "outputs": [
    {
     "name": "stdout",
     "output_type": "stream",
     "text": [
      "0.038\n"
     ]
    },
    {
     "data": {
      "image/png": "[encoded data removed]",
      "text/plain": [
       "<Figure size 432x288 with 1 Axes>"
      ]
     },
     "metadata": {
      "needs_background": "light"
     },
     "output_type": "display_data"
    }
   ],
   "source": [
    "# Sample data\n",
    "x,y = np.array(predicted_fin),test_y\n",
    "print(round(pearsonr(predicted_fin,test_y)[0]**2,3))\n",
    "# Fit with polyfit\n",
    "b, m = polyfit(x, y, 1)\n",
    "\n",
    "plt.plot(x, y, '.')\n",
    "plt.plot(x, b + m * x, '-')\n",
    "plt.show()"
   ]
  },
  {
   "cell_type": "markdown",
   "metadata": {},
   "source": [
    "#### Public"
   ]
  },
  {
   "cell_type": "code",
   "execution_count": 21,
   "metadata": {},
   "outputs": [
    {
     "name": "stdout",
     "output_type": "stream",
     "text": [
      "0.043\n"
     ]
    },
    {
     "data": {
      "image/png": "[encoded data removed]",
      "text/plain": [
       "<Figure size 432x288 with 1 Axes>"
      ]
     },
     "metadata": {
      "needs_background": "light"
     },
     "output_type": "display_data"
    }
   ],
   "source": [
    "# Sample data\n",
    "x,y = np.array(public_y), test_y\n",
    "print(round(pearsonr(public_y,test_y)[0]**2,3))\n",
    "# Fit with polyfit\n",
    "b, m = polyfit(x, y, 1)\n",
    "\n",
    "plt.plot(x, y, '.')\n",
    "plt.plot(x, b + m*x, '-')\n",
    "plt.show()"
   ]
  },
  {
   "cell_type": "code",
   "execution_count": 22,
   "metadata": {},
   "outputs": [],
   "source": [
    "the_dict = {'one':0,'two':0,'three':0,'four':0,'five':0,'six':0}\n",
    "\n",
    "for x in predicted_fin:\n",
    "    if x ==1:\n",
    "        the_dict['one']+=1\n",
    "    elif x ==2:\n",
    "        the_dict['two']+=1\n",
    "    elif x ==3:\n",
    "        the_dict['three']+=1\n",
    "    elif x ==4:\n",
    "        the_dict['four']+=1\n",
    "    elif x ==5:\n",
    "        the_dict['five']+=1\n",
    "    elif x ==6:\n",
    "        the_dict['six']+=1"
   ]
  },
  {
   "cell_type": "code",
   "execution_count": 23,
   "metadata": {},
   "outputs": [
    {
     "name": "stdout",
     "output_type": "stream",
     "text": [
      "{'one': 748, 'two': 148, 'three': 195, 'four': 265, 'five': 230, 'six': 586}\n"
     ]
    }
   ],
   "source": [
    "print(the_dict)"
   ]
  },
  {
   "cell_type": "code",
   "execution_count": 24,
   "metadata": {},
   "outputs": [
    {
     "data": {
      "image/png": "[encoded data removed]",
      "text/plain": [
       "<Figure size 432x288 with 1 Axes>"
      ]
     },
     "metadata": {
      "needs_background": "light"
     },
     "output_type": "display_data"
    }
   ],
   "source": [
    "plt.bar(range(len(the_dict)), list(the_dict.values()), align='center')\n",
    "plt.xticks(range(len(the_dict)), list(the_dict.keys()))\n",
    "plt.title(\" Predicted Finish Positions\\n\")\n",
    "plt.show()"
   ]
  },
  {
   "cell_type": "markdown",
   "metadata": {},
   "source": [
    "### Classification Report"
   ]
  },
  {
   "cell_type": "code",
   "execution_count": 25,
   "metadata": {},
   "outputs": [
    {
     "name": "stdout",
     "output_type": "stream",
     "text": [
      "              precision    recall  f1-score   support\n",
      "\n",
      "       first       0.24      0.50      0.32       362\n",
      "      second       0.19      0.08      0.11       363\n",
      "       third       0.19      0.11      0.14       361\n",
      "      fourth       0.16      0.12      0.14       362\n",
      "       fifth       0.22      0.14      0.17       362\n",
      "       sixth       0.24      0.39      0.30       362\n",
      "\n",
      "    accuracy                           0.22      2172\n",
      "   macro avg       0.21      0.22      0.20      2172\n",
      "weighted avg       0.21      0.22      0.20      2172\n",
      "\n"
     ]
    }
   ],
   "source": [
    "target_names = ['first', 'second', 'third','fourth', 'fifth', 'sixth']\n",
    "print(classification_report(test_y, predicted_fin, target_names=target_names))"
   ]
  },
  {
   "cell_type": "code",
   "execution_count": null,
   "metadata": {},
   "outputs": [],
   "source": []
  },
  {
   "cell_type": "code",
   "execution_count": null,
   "metadata": {},
   "outputs": [],
   "source": []
  },
  {
   "cell_type": "code",
   "execution_count": null,
   "metadata": {},
   "outputs": [],
   "source": []
  }
 ],
 "metadata": {
  "kernelspec": {
   "display_name": "Python 3",
   "language": "python",
   "name": "python3"
  },
  "language_info": {
   "codemirror_mode": {
    "name": "ipython",
    "version": 3
   },
   "file_extension": ".py",
   "mimetype": "text/x-python",
   "name": "python",
   "nbconvert_exporter": "python",
   "pygments_lexer": "ipython3",
   "version": "3.7.4"
  }
 },
 "nbformat": 4,
 "nbformat_minor": 4
}
