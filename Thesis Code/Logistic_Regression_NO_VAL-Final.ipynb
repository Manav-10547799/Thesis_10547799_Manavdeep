{
 "cells": [
  {
   "cell_type": "code",
   "execution_count": 1,
   "metadata": {},
   "outputs": [],
   "source": [
    "# Import necessary packages\n",
    "import pandas as pd\n",
    "import numpy as np\n",
    "\n",
    "# Machine Learning\n",
    "from sklearn.metrics import accuracy_score\n",
    "from sklearn.linear_model import LogisticRegression\n",
    "\n",
    "# Viz\n",
    "import matplotlib.pyplot\n",
    "from numpy.polynomial.polynomial import polyfit\n",
    "import matplotlib.pyplot as plt\n",
    "\n",
    "# Evaluation Metrics\n",
    "from scipy.stats import pearsonr\n",
    "from sklearn.metrics import classification_report\n",
    "from sklearn.metrics import mean_absolute_error\n",
    "from sklearn.metrics import r2_score\n",
    "from sklearn.metrics import confusion_matrix"
   ]
  },
  {
   "cell_type": "code",
   "execution_count": 2,
   "metadata": {},
   "outputs": [],
   "source": [
    "\n",
    "df = pd.read_csv(\"data_final_with_gng.csv\", encoding = \"ISO-8859-1\") "
   ]
  },
  {
   "cell_type": "code",
   "execution_count": 3,
   "metadata": {},
   "outputs": [
    {
     "name": "stdout",
     "output_type": "stream",
     "text": [
      "COLUMN              DATATYPE       EXAMPLE\n",
      "----------------------------------------------------------------------\n",
      "Race_ID             int64          1487.0\n",
      "Trap                float64          6.0\n",
      "Odds                float64          7.0\n",
      "BSP                 float64          8.63\n",
      "Public_Estimate     float64          5.0\n",
      "Last_Run            int64          9.0\n",
      "Distance_All        float64          380.0\n",
      "Finish_All          float64          3.13\n",
      "Distance_Places_All  float64          380.0\n",
      "Races_All           int64          21.0\n",
      "Distance_Recent     float64          380.0\n",
      "Finish_Recent       float64          2.57\n",
      "Odds_Recent         float64          5.0\n",
      "Early_Recent        float64          2.43\n",
      "Races_380           int64          16.0\n",
      "Wins_380            float64          0.25\n",
      "Finish_380          float64          2.57\n",
      "Odds_380            float64          5.0\n",
      "Early_380           float64          2.43\n",
      "Grade_380           float64          4.0\n",
      "Time_380            float64          23.94\n",
      "Early_Time_380      float64          3.61\n",
      "Stay_380            float64          0.13999999999999968\n",
      "Favourite           float64          2.0\n",
      "Finished            float64          3.0\n",
      "Wide_380            float64          0.29\n",
      "Dist_By             float64          -3.0\n",
      "Gng                 float64          30.0\n",
      "Winner              int64          0.0\n"
     ]
    }
   ],
   "source": [
    "print(\"COLUMN              DATATYPE       EXAMPLE\")\n",
    "print(\"----------------------------------------------------------------------\")\n",
    "for col in df.columns:\n",
    "    print(col,\" \"*(18-len(col)),df[col].dtype,\" \"*(8-len(df[col].dtype)),df.iloc[8925][col])"
   ]
  },
  {
   "cell_type": "code",
   "execution_count": 4,
   "metadata": {},
   "outputs": [
    {
     "name": "stdout",
     "output_type": "stream",
     "text": [
      "<class 'pandas.core.frame.DataFrame'>\n",
      "RangeIndex: 13842 entries, 0 to 13841\n",
      "Data columns (total 29 columns):\n",
      "Race_ID                13842 non-null int64\n",
      "Trap                   13842 non-null float64\n",
      "Odds                   13842 non-null float64\n",
      "BSP                    13842 non-null float64\n",
      "Public_Estimate        13842 non-null float64\n",
      "Last_Run               13842 non-null int64\n",
      "Distance_All           13842 non-null float64\n",
      "Finish_All             13842 non-null float64\n",
      "Distance_Places_All    13842 non-null float64\n",
      "Races_All              13842 non-null int64\n",
      "Distance_Recent        13842 non-null float64\n",
      "Finish_Recent          13842 non-null float64\n",
      "Odds_Recent            13842 non-null float64\n",
      "Early_Recent           13842 non-null float64\n",
      "Races_380              13842 non-null int64\n",
      "Wins_380               13842 non-null float64\n",
      "Finish_380             13842 non-null float64\n",
      "Odds_380               13842 non-null float64\n",
      "Early_380              13842 non-null float64\n",
      "Grade_380              13842 non-null float64\n",
      "Time_380               13842 non-null float64\n",
      "Early_Time_380         13842 non-null float64\n",
      "Stay_380               13842 non-null float64\n",
      "Favourite              13842 non-null float64\n",
      "Finished               13842 non-null float64\n",
      "Wide_380               13842 non-null float64\n",
      "Dist_By                13842 non-null float64\n",
      "Gng                    13842 non-null float64\n",
      "Winner                 13842 non-null int64\n",
      "dtypes: float64(24), int64(5)\n",
      "memory usage: 3.1 MB\n"
     ]
    }
   ],
   "source": [
    "df.info()"
   ]
  },
  {
   "cell_type": "markdown",
   "metadata": {},
   "source": [
    "#### Relativise Features"
   ]
  },
  {
   "cell_type": "code",
   "execution_count": 5,
   "metadata": {},
   "outputs": [
    {
     "data": {
      "text/plain": [
       "'df[\"Early_Recent\"] = df.groupby(\"Race_ID\").transform(lambda x: x-x.median())[\\'Early_Recent\\']\\ndf[\"Finish_Recent\"] = df.groupby(\"Race_ID\").transform(lambda x: x-x.median())[\\'Finish_Recent\\']\\ndf[\"Odds_Recent\"] = df.groupby(\"Race_ID\").transform(lambda x: x-x.median())[\\'Odds_Recent\\']\\ndf[\"Early_380\"] = df.groupby(\"Race_ID\").transform(lambda x: x-x.median())[\"Early_380\"]\\ndf[\"Finish_380\"] = df.groupby(\"Race_ID\").transform(lambda x: x-x.median())[\"Finish_380\"]\\ndf[\"Odds_380\"] = df.groupby(\"Race_ID\").transform(lambda x: x-x.median())[\"Odds_380\"]\\ndf[\"Stay_380\"] = df.groupby(\"Race_ID\").transform(lambda x: x-x.median())[\"Stay_380\"]\\ndf[\"Early_Time_380\"] = df.groupby(\"Race_ID\").transform(lambda x: x-x.median())[\"Early_Time_380\"]\\ndf[\"Time_380\"] = df.groupby(\"Race_ID\").transform(lambda x: x-x.median())[\"Time_380\"]'"
      ]
     },
     "execution_count": 5,
     "metadata": {},
     "output_type": "execute_result"
    }
   ],
   "source": [
    "\"\"\"df[\"Early_Recent\"] = df.groupby(\"Race_ID\").transform(lambda x: x-x.median())['Early_Recent']\n",
    "df[\"Finish_Recent\"] = df.groupby(\"Race_ID\").transform(lambda x: x-x.median())['Finish_Recent']\n",
    "df[\"Odds_Recent\"] = df.groupby(\"Race_ID\").transform(lambda x: x-x.median())['Odds_Recent']\n",
    "df[\"Early_380\"] = df.groupby(\"Race_ID\").transform(lambda x: x-x.median())[\"Early_380\"]\n",
    "df[\"Finish_380\"] = df.groupby(\"Race_ID\").transform(lambda x: x-x.median())[\"Finish_380\"]\n",
    "df[\"Odds_380\"] = df.groupby(\"Race_ID\").transform(lambda x: x-x.median())[\"Odds_380\"]\n",
    "df[\"Stay_380\"] = df.groupby(\"Race_ID\").transform(lambda x: x-x.median())[\"Stay_380\"]\n",
    "df[\"Early_Time_380\"] = df.groupby(\"Race_ID\").transform(lambda x: x-x.median())[\"Early_Time_380\"]\n",
    "df[\"Time_380\"] = df.groupby(\"Race_ID\").transform(lambda x: x-x.median())[\"Time_380\"]\"\"\""
   ]
  },
  {
   "cell_type": "code",
   "execution_count": 6,
   "metadata": {},
   "outputs": [],
   "source": [
    "factors = ['Race_ID','Trap','Odds','BSP','Public_Estimate','Last_Run','Distance_All','Finish_All',\n",
    "'Distance_Places_All','Races_All','Distance_Recent','Finish_Recent','Odds_Recent','Early_Recent',\n",
    "'Races_380','Wins_380','Finish_380','Odds_380','Early_380','Grade_380','Time_380','Early_Time_380',\n",
    "'Stay_380','Favourite','Finished','Wide_380','Dist_By','Gng','Winner']"
   ]
  },
  {
   "cell_type": "markdown",
   "metadata": {},
   "source": [
    "#### Pearson R and P-value"
   ]
  },
  {
   "cell_type": "code",
   "execution_count": 7,
   "metadata": {},
   "outputs": [],
   "source": [
    "from scipy.stats import pearsonr"
   ]
  },
  {
   "cell_type": "code",
   "execution_count": 9,
   "metadata": {},
   "outputs": [
    {
     "name": "stdout",
     "output_type": "stream",
     "text": [
      "Finished              1.0 0.0\n",
      "Winner                -0.65 0.0\n",
      "BSP                   0.23 0.0\n",
      "Public_Estimate       0.22 0.0\n",
      "Odds                  0.21 0.0\n",
      "Finish_All            0.07 0.0\n",
      "Odds_380              0.06 0.0\n",
      "Odds_Recent           0.06 0.0\n",
      "Finish_380            0.06 0.0\n",
      "Finish_Recent         0.06 0.0\n",
      "Dist_By               -0.04 0.0\n",
      "Stay_380              0.04 0.0\n",
      "Last_Run              0.04 0.0\n",
      "Distance_Recent       0.03 0.0\n",
      "Early_Time_380        0.03 0.0\n",
      "Distance_All          0.02 0.02\n",
      "Distance_Places_All   0.02 0.05\n",
      "Trap                  0.01 0.19\n",
      "Races_All             0.01 0.19\n",
      "Grade_380             0.01 0.33\n",
      "Races_380             0.01 0.33\n",
      "Wins_380              0.01 0.34\n",
      "Time_380              -0.0 0.62\n",
      "Early_380             -0.0 0.63\n",
      "Early_Recent          0.0 0.83\n",
      "Wide_380              -0.0 0.98\n",
      "Favourite             -0.0 0.99\n",
      "Gng                   0.0 0.99\n",
      "Race_ID               0.0 0.99\n"
     ]
    }
   ],
   "source": [
    "r_p = [] # Create a list of tuples with column names, r^2 and p-value. Then print them in order by p-value\n",
    "for x in factors:\n",
    "    result = pearsonr(df[x],df['Finished'])\n",
    "    pearson_r, p__value = result[0] , result[1]\n",
    "    r_p.append((x,pearson_r,p__value))\n",
    "cor_p_val = sorted(r_p, key=lambda x: x[2])\n",
    "for tup in cor_p_val:\n",
    "    print(tup[0],(20 - len(tup[0]))*\" \",round(tup[1],2),round(tup[2],2))"
   ]
  },
  {
   "cell_type": "code",
   "execution_count": 10,
   "metadata": {},
   "outputs": [
    {
     "name": "stdout",
     "output_type": "stream",
     "text": [
      "'Finished',\n",
      "'Winner',\n",
      "'BSP',\n",
      "'Public_Estimate',\n",
      "'Odds',\n",
      "'Finish_All',\n",
      "'Odds_380',\n",
      "'Odds_Recent',\n",
      "'Finish_380',\n",
      "'Finish_Recent',\n",
      "'Dist_By',\n",
      "'Stay_380',\n",
      "'Last_Run',\n",
      "'Distance_Recent',\n",
      "'Early_Time_380',\n",
      "'Distance_All',\n",
      "'Distance_Places_All',\n",
      "'Trap',\n",
      "'Races_All',\n",
      "'Grade_380',\n",
      "'Races_380',\n",
      "'Wins_380',\n",
      "'Time_380',\n",
      "'Early_380',\n",
      "'Early_Recent',\n",
      "'Wide_380',\n",
      "'Favourite',\n",
      "'Gng',\n",
      "'Race_ID',\n"
     ]
    }
   ],
   "source": [
    "for col in cor_p_val: # Print in order for easy copy and paste of column names to be dropped\n",
    "    print(\"'\"+col[0]+\"',\")"
   ]
  },
  {
   "cell_type": "markdown",
   "metadata": {},
   "source": [
    "### Training "
   ]
  },
  {
   "cell_type": "markdown",
   "metadata": {},
   "source": [
    "#### Drop Poorly Correlated"
   ]
  },
  {
   "cell_type": "code",
   "execution_count": 11,
   "metadata": {},
   "outputs": [],
   "source": [
    "drop_cols = ['Winner','Public_Estimate','Odds','Race_ID','Distance_Places_All',\n",
    "'Trap',\n",
    "'Races_All',\n",
    "'Grade_380',\n",
    "'Races_380',\n",
    "'Wins_380',\n",
    "'Time_380',\n",
    "'Early_380',\n",
    "'Early_Recent',\n",
    "'Wide_380',\n",
    "'Favourite']\n",
    "df_m = df.drop(columns=drop_cols)"
   ]
  },
  {
   "cell_type": "code",
   "execution_count": 12,
   "metadata": {},
   "outputs": [],
   "source": [
    "train = df_m[0:11670]# Training\n",
    "test = df_m[11670:]# Final Testing\n",
    "target=\"Finished\"\n",
    "\n",
    "train_X = train.drop(columns=[target])\n",
    "train_y = train[target]\n",
    "test_X = test.drop(columns=[target])\n",
    "test_y = test[target]"
   ]
  },
  {
   "cell_type": "code",
   "execution_count": 13,
   "metadata": {},
   "outputs": [
    {
     "data": {
      "text/plain": [
       "'from sklearn.preprocessing import StandardScaler\\nscaler = StandardScaler()\\nscaler.fit(train_X)\\ntrain_X_ = scaler.transform(train_X)\\ntest_X_ = scaler.transform(test_X)\\ntrain_X = pd.DataFrame(train_X_, index=train_X.index, columns=train_X.columns)\\ntest_X = pd.DataFrame(test_X_, index=test_X.index, columns=test_X.columns)\\n'"
      ]
     },
     "execution_count": 13,
     "metadata": {},
     "output_type": "execute_result"
    }
   ],
   "source": [
    "\"\"\"from sklearn.preprocessing import StandardScaler\n",
    "scaler = StandardScaler()\n",
    "scaler.fit(train_X)\n",
    "train_X_ = scaler.transform(train_X)\n",
    "test_X_ = scaler.transform(test_X)\n",
    "train_X = pd.DataFrame(train_X_, index=train_X.index, columns=train_X.columns)\n",
    "test_X = pd.DataFrame(test_X_, index=test_X.index, columns=test_X.columns)\n",
    "\"\"\""
   ]
  },
  {
   "cell_type": "code",
   "execution_count": 14,
   "metadata": {},
   "outputs": [
    {
     "name": "stdout",
     "output_type": "stream",
     "text": [
      "Training Accuracy 0.229\n"
     ]
    }
   ],
   "source": [
    "model = LogisticRegression(random_state=0, solver='sag',max_iter=10000,multi_class='multinomial')\n",
    "model.fit(train_X,train_y)\n",
    "print(\"Training Accuracy\",round(accuracy_score(train_y, model.predict(train_X)),3))"
   ]
  },
  {
   "cell_type": "code",
   "execution_count": 15,
   "metadata": {},
   "outputs": [
    {
     "name": "stdout",
     "output_type": "stream",
     "text": [
      "Test Accuracy 0.225\n"
     ]
    }
   ],
   "source": [
    "predicted_fin = model.predict(test_X)\n",
    "print(\"Test Accuracy\",round(accuracy_score(test_y, predicted_fin),3))"
   ]
  },
  {
   "cell_type": "code",
   "execution_count": 16,
   "metadata": {},
   "outputs": [],
   "source": [
    "public_y = list(df[11670:]['Public_Estimate'])"
   ]
  },
  {
   "cell_type": "code",
   "execution_count": 17,
   "metadata": {},
   "outputs": [
    {
     "name": "stdout",
     "output_type": "stream",
     "text": [
      "Public Accuracy 0.212\n"
     ]
    }
   ],
   "source": [
    "print(\"Public Accuracy\",round(accuracy_score(test_y,public_y),3))"
   ]
  },
  {
   "cell_type": "markdown",
   "metadata": {},
   "source": [
    "### Accuracy for each class"
   ]
  },
  {
   "cell_type": "code",
   "execution_count": 18,
   "metadata": {},
   "outputs": [
    {
     "name": "stdout",
     "output_type": "stream",
     "text": [
      "Accuracy Score Each Class\n",
      "- - - - - - - - - - - - - - - - - - - - \n",
      "First      0.58\n",
      "Second     0.1\n",
      "Third      0.12\n",
      "Fourth     0.06\n",
      "Fifth      0.09\n",
      "Sixth      0.4\n"
     ]
    }
   ],
   "source": [
    "matrix = confusion_matrix(test_y, predicted_fin)\n",
    "labls = [\"First\",\"Second\",\"Third\",\"Fourth\",\"Fifth\",\"Sixth\"]\n",
    "acc_scores = [round(x,2) for x in list(matrix.diagonal()/matrix.sum(axis=1))]\n",
    "accs = zip(labls,acc_scores)\n",
    "print(\"Accuracy Score Each Class\")\n",
    "print(\"- - - - - - - - - - - - - - - - - - - - \")\n",
    "for a in accs:\n",
    "    print(a[0],\" \"*(9-len(a[0])),a[1])"
   ]
  },
  {
   "cell_type": "markdown",
   "metadata": {},
   "source": [
    "#### Model Weights"
   ]
  },
  {
   "cell_type": "code",
   "execution_count": 19,
   "metadata": {},
   "outputs": [
    {
     "name": "stdout",
     "output_type": "stream",
     "text": [
      "Linear Weigts for Classifier 1\n",
      "Intercept             0.11\n",
      "BSP                   -0.13\n",
      "Last_Run              0.01\n",
      "Distance_All          -0.0\n",
      "Finish_All            -0.07\n",
      "Distance_Recent       0.0\n",
      "Finish_Recent         -0.01\n",
      "Odds_Recent           -0.0\n",
      "Finish_380            0.09\n",
      "Odds_380              -0.03\n",
      "Early_Time_380        0.3\n",
      "Stay_380              -0.01\n",
      "Dist_By               0.01\n",
      "Gng                   0.0\n",
      "\n",
      "Linear Weigts for Classifier 2\n",
      "Intercept             0.06\n",
      "BSP                   -0.04\n",
      "Last_Run              -0.01\n",
      "Distance_All          0.0\n",
      "Finish_All            -0.1\n",
      "Distance_Recent       -0.0\n",
      "Finish_Recent         -0.01\n",
      "Odds_Recent           -0.02\n",
      "Finish_380            -0.01\n",
      "Odds_380              0.02\n",
      "Early_Time_380        0.19\n",
      "Stay_380              0.0\n",
      "Dist_By               -0.01\n",
      "Gng                   -0.0\n",
      "\n",
      "Linear Weigts for Classifier 3\n",
      "Intercept             0.02\n",
      "BSP                   0.01\n",
      "Last_Run              -0.01\n",
      "Distance_All          0.0\n",
      "Finish_All            -0.11\n",
      "Distance_Recent       -0.0\n",
      "Finish_Recent         0.01\n",
      "Odds_Recent           -0.01\n",
      "Finish_380            0.02\n",
      "Odds_380              0.03\n",
      "Early_Time_380        0.13\n",
      "Stay_380              -0.07\n",
      "Dist_By               0.01\n",
      "Gng                   -0.0\n",
      "\n",
      "Linear Weigts for Classifier 4\n",
      "Intercept             -0.04\n",
      "BSP                   0.03\n",
      "Last_Run              -0.01\n",
      "Distance_All          0.0\n",
      "Finish_All            -0.04\n",
      "Distance_Recent       -0.0\n",
      "Finish_Recent         0.02\n",
      "Odds_Recent           0.02\n",
      "Finish_380            0.04\n",
      "Odds_380              -0.02\n",
      "Early_Time_380        -0.02\n",
      "Stay_380              -0.04\n",
      "Dist_By               0.01\n",
      "Gng                   -0.0\n",
      "\n",
      "Linear Weigts for Classifier 5\n",
      "Intercept             -0.09\n",
      "BSP                   0.05\n",
      "Last_Run              0.0\n",
      "Distance_All          -0.0\n",
      "Finish_All            0.1\n",
      "Distance_Recent       0.0\n",
      "Finish_Recent         -0.03\n",
      "Odds_Recent           0.01\n",
      "Finish_380            0.01\n",
      "Odds_380              0.02\n",
      "Early_Time_380        -0.31\n",
      "Stay_380              0.02\n",
      "Dist_By               0.0\n",
      "Gng                   0.0\n",
      "\n",
      "Linear Weigts for Classifier 6\n",
      "Intercept             -0.06\n",
      "BSP                   0.08\n",
      "Last_Run              0.02\n",
      "Distance_All          -0.0\n",
      "Finish_All            0.23\n",
      "Distance_Recent       0.0\n",
      "Finish_Recent         0.02\n",
      "Odds_Recent           -0.0\n",
      "Finish_380            -0.14\n",
      "Odds_380              -0.02\n",
      "Early_Time_380        -0.28\n",
      "Stay_380              0.1\n",
      "Dist_By               -0.02\n",
      "Gng                   0.0\n",
      "\n"
     ]
    }
   ],
   "source": [
    "for cls in range(0,6):\n",
    "    print(\"Linear Weigts for Classifier\",cls+1)\n",
    "    weights = list(np.hstack((model.intercept_[:,None], model.coef_))[cls])\n",
    "    names = [\"Intercept\"]\n",
    "    cols = list(train_X.columns)\n",
    "    names = names + cols\n",
    "    results = zip(names,weights)\n",
    "    for x in results:\n",
    "        print(x[0],\" \"*(20-len(x[0])),round(x[1],2))   \n",
    "    print()"
   ]
  },
  {
   "cell_type": "markdown",
   "metadata": {},
   "source": [
    "### Classification Report"
   ]
  },
  {
   "cell_type": "code",
   "execution_count": 20,
   "metadata": {},
   "outputs": [],
   "source": [
    "target_names = ['first', 'second', 'third','fourth', 'fifth', 'sixth']"
   ]
  },
  {
   "cell_type": "code",
   "execution_count": 21,
   "metadata": {},
   "outputs": [
    {
     "name": "stdout",
     "output_type": "stream",
     "text": [
      "              precision    recall  f1-score   support\n",
      "\n",
      "       first       0.22      0.58      0.31       362\n",
      "      second       0.23      0.10      0.14       363\n",
      "       third       0.18      0.12      0.14       361\n",
      "      fourth       0.19      0.06      0.09       362\n",
      "       fifth       0.23      0.09      0.13       362\n",
      "       sixth       0.26      0.40      0.32       362\n",
      "\n",
      "    accuracy                           0.23      2172\n",
      "   macro avg       0.22      0.23      0.19      2172\n",
      "weighted avg       0.22      0.23      0.19      2172\n",
      "\n"
     ]
    }
   ],
   "source": [
    "print(classification_report(test_y, predicted_fin, target_names=target_names))"
   ]
  },
  {
   "cell_type": "markdown",
   "metadata": {},
   "source": [
    "### Mean Absolute Error"
   ]
  },
  {
   "cell_type": "code",
   "execution_count": 22,
   "metadata": {},
   "outputs": [
    {
     "name": "stdout",
     "output_type": "stream",
     "text": [
      "Mean Absolute Error\n",
      "- - - - - - - - - - - - - - -\n",
      "Model:  1.922\n",
      "Market: 1.681\n"
     ]
    }
   ],
   "source": [
    "from sklearn.metrics import mean_absolute_error\n",
    "print(\"Mean Absolute Error\")\n",
    "print(\"- - - - - - - - - - - - - - -\")\n",
    "print(\"Model: \",round(mean_absolute_error(test_y,predicted_fin),3))\n",
    "print(\"Market:\",round(mean_absolute_error(test_y,public_y),3))"
   ]
  },
  {
   "cell_type": "markdown",
   "metadata": {},
   "source": [
    "### R-squared (Coefficient of Determination)"
   ]
  },
  {
   "cell_type": "code",
   "execution_count": 23,
   "metadata": {},
   "outputs": [
    {
     "name": "stdout",
     "output_type": "stream",
     "text": [
      "R-squared Score/Error\n",
      "- - - - - - - - - - - - - - -\n",
      "Model:  -1.104\n",
      "Market: -0.585\n"
     ]
    }
   ],
   "source": [
    "print(\"R-squared Score/Error\")\n",
    "print(\"- - - - - - - - - - - - - - -\")\n",
    "print(\"Model: \",round(r2_score(test_y,predicted_fin),3))\n",
    "print(\"Market:\",round(r2_score(test_y,public_y),3))"
   ]
  },
  {
   "cell_type": "markdown",
   "metadata": {},
   "source": [
    "### Pearson Correlation of Model Preds/Market Preds and Real Fin Position/Results"
   ]
  },
  {
   "cell_type": "markdown",
   "metadata": {},
   "source": [
    "#### Model"
   ]
  },
  {
   "cell_type": "code",
   "execution_count": 24,
   "metadata": {},
   "outputs": [
    {
     "name": "stdout",
     "output_type": "stream",
     "text": [
      "0.044\n"
     ]
    },
    {
     "data": {
      "image/png": "[encoded data removed]",
      "text/plain": [
       "<Figure size 432x288 with 1 Axes>"
      ]
     },
     "metadata": {
      "needs_background": "light"
     },
     "output_type": "display_data"
    }
   ],
   "source": [
    "# Sample data\n",
    "x,y = predicted_fin,test_y\n",
    "print(round(pearsonr(predicted_fin,test_y)[0]**2,3))\n",
    "# Fit with polyfit\n",
    "b, m = polyfit(x, y, 1)\n",
    "\n",
    "plt.plot(x, y, '.')\n",
    "plt.plot(x, b + m * x, '-')\n",
    "plt.show()"
   ]
  },
  {
   "cell_type": "markdown",
   "metadata": {},
   "source": [
    "#### Public"
   ]
  },
  {
   "cell_type": "code",
   "execution_count": 25,
   "metadata": {},
   "outputs": [
    {
     "name": "stdout",
     "output_type": "stream",
     "text": [
      "0.043\n"
     ]
    },
    {
     "data": {
      "image/png": "[encoded data removed]",
      "text/plain": [
       "<Figure size 432x288 with 1 Axes>"
      ]
     },
     "metadata": {
      "needs_background": "light"
     },
     "output_type": "display_data"
    }
   ],
   "source": [
    "# Sample data\n",
    "x,y = np.array(public_y), test_y\n",
    "print(round(pearsonr(public_y,test_y)[0]**2,3))\n",
    "# Fit with polyfit\n",
    "b, m = polyfit(x, y, 1)\n",
    "\n",
    "plt.plot(x, y, '.')\n",
    "plt.plot(x, b + m*x, '-')\n",
    "plt.show()"
   ]
  },
  {
   "cell_type": "code",
   "execution_count": 26,
   "metadata": {},
   "outputs": [],
   "source": [
    "the_dict = {'one':0,'two':0,'three':0,'four':0,'five':0,'six':0}\n",
    "\n",
    "for x in predicted_fin:\n",
    "    if x ==1:\n",
    "        the_dict['one']+=1\n",
    "    elif x ==2:\n",
    "        the_dict['two']+=1\n",
    "    elif x ==3:\n",
    "        the_dict['three']+=1\n",
    "    elif x ==4:\n",
    "        the_dict['four']+=1\n",
    "    elif x ==5:\n",
    "        the_dict['five']+=1\n",
    "    elif x ==6:\n",
    "        the_dict['six']+=1"
   ]
  },
  {
   "cell_type": "code",
   "execution_count": 27,
   "metadata": {},
   "outputs": [
    {
     "name": "stdout",
     "output_type": "stream",
     "text": [
      "{'one': 965, 'two': 162, 'three': 230, 'four': 109, 'five': 147, 'six': 559}\n"
     ]
    }
   ],
   "source": [
    "print(the_dict)"
   ]
  },
  {
   "cell_type": "code",
   "execution_count": 28,
   "metadata": {},
   "outputs": [
    {
     "data": {
      "image/png": "[encoded data removed]",
      "text/plain": [
       "<Figure size 432x288 with 1 Axes>"
      ]
     },
     "metadata": {
      "needs_background": "light"
     },
     "output_type": "display_data"
    }
   ],
   "source": [
    "plt.bar(range(len(the_dict)), list(the_dict.values()), align='center')\n",
    "plt.xticks(range(len(the_dict)), list(the_dict.keys()))\n",
    "plt.title(\" Predicted Finish Positions\\n\")\n",
    "plt.show()"
   ]
  },
  {
   "cell_type": "markdown",
   "metadata": {},
   "source": [
    "### Model Winnings"
   ]
  },
  {
   "cell_type": "code",
   "execution_count": 29,
   "metadata": {},
   "outputs": [],
   "source": [
    "test_X['Model_pred'] = predicted_fin\n",
    "test_X = test_X.reset_index()\n",
    "test_X =test_X.drop(columns=['index'])"
   ]
  },
  {
   "cell_type": "code",
   "execution_count": 30,
   "metadata": {},
   "outputs": [
    {
     "name": "stdout",
     "output_type": "stream",
     "text": [
      "Model Returns: -0.08\n"
     ]
    }
   ],
   "source": [
    "test_X['Finished'] = [x for x in test_y]\n",
    "test_X['Finished_win_lose'] = np.where(test_X['Finished']==1, 1,-1)\n",
    "test_X['Model_pred_win'] = np.where(test_X['Model_pred']==1, 1,0)\n",
    "test_X['Returns'] = np.where(test_X['Finished']==1, 1, 0)\n",
    "test_X['Returns'] = test_X['Returns']*(test_X['BSP'])\n",
    "test_X['Returns'] = test_X['Returns']*test_X['Model_pred_win']\n",
    "print(\"Model Returns:\",round((test_X['Returns'].sum()/test_X['Model_pred_win'].sum())-1,2))"
   ]
  },
  {
   "cell_type": "markdown",
   "metadata": {},
   "source": [
    "### Market / Public Winnings"
   ]
  },
  {
   "cell_type": "code",
   "execution_count": 31,
   "metadata": {},
   "outputs": [
    {
     "name": "stdout",
     "output_type": "stream",
     "text": [
      "Market Returns: -0.07\n"
     ]
    }
   ],
   "source": [
    "test_X['Market_pred'] = [x for x in df['Public_Estimate'][11670:]]\n",
    "test_X['Market_pred_win'] = np.where(test_X['Market_pred']==1, 1,0)\n",
    "test_X['Market_Returns'] = np.where(test_X['Finished']==1, 1, 0) # Winners only\n",
    "test_X['Market_Returns'] = test_X['Market_Returns']*(test_X['BSP']) # Cash returned\n",
    "test_X['Market_Returns'] = test_X['Market_Returns']*test_X['Market_pred_win'] # Only cash if predicted win\n",
    "print(\"Market Returns:\",round((test_X['Market_Returns'].sum()/test_X['Market_pred_win'].sum())-1,2))"
   ]
  },
  {
   "cell_type": "markdown",
   "metadata": {},
   "source": [
    "### Comparison"
   ]
  },
  {
   "cell_type": "code",
   "execution_count": 32,
   "metadata": {},
   "outputs": [
    {
     "name": "stdout",
     "output_type": "stream",
     "text": [
      "Model Returns: -0.08\n"
     ]
    }
   ],
   "source": [
    "test_X['Model_pred_win'] = np.where(test_X['Model_pred']==1,1,0)\n",
    "test_X['Market_not_pred'] = np.where(test_X['Market_pred']>1,1,0)\n",
    "test_X['Model_pred_win'] = test_X['Model_pred_win']*test_X['Market_not_pred']\n",
    "test_X['Returns'] = np.where(test_X['Finished']==1, 1, 0)\n",
    "test_X['Returns'] = test_X['Returns']*(test_X['BSP'])\n",
    "test_X['Returns'] = test_X['Returns']*test_X['Model_pred_win']\n",
    "print(\"Model Returns:\",round((test_X['Returns'].sum()/test_X['Model_pred_win'].sum())-1,2))"
   ]
  },
  {
   "cell_type": "code",
   "execution_count": null,
   "metadata": {},
   "outputs": [],
   "source": []
  },
  {
   "cell_type": "code",
   "execution_count": null,
   "metadata": {},
   "outputs": [],
   "source": []
  },
  {
   "cell_type": "code",
   "execution_count": null,
   "metadata": {},
   "outputs": [],
   "source": []
  },
  {
   "cell_type": "code",
   "execution_count": null,
   "metadata": {},
   "outputs": [],
   "source": []
  },
  {
   "cell_type": "code",
   "execution_count": null,
   "metadata": {},
   "outputs": [],
   "source": []
  }
 ],
 "metadata": {
  "kernelspec": {
   "display_name": "Python 3",
   "language": "python",
   "name": "python3"
  },
  "language_info": {
   "codemirror_mode": {
    "name": "ipython",
    "version": 3
   },
   "file_extension": ".py",
   "mimetype": "text/x-python",
   "name": "python",
   "nbconvert_exporter": "python",
   "pygments_lexer": "ipython3",
   "version": "3.7.4"
  }
 },
 "nbformat": 4,
 "nbformat_minor": 4
}
